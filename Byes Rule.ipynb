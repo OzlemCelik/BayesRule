{
 "cells": [
  {
   "cell_type": "code",
   "execution_count": 23,
   "metadata": {},
   "outputs": [
    {
     "name": "stdout",
     "output_type": "stream",
     "text": [
      "Be Positive= 0.1044\n",
      "Correctly diagnose a sufferer of Thripshaw= 0.98\n",
      "Correctly identify a non-sufferer of Thripshaw = 0.9\n",
      "Misclassify the person = 0.09960000000000002\n"
     ]
    }
   ],
   "source": [
    "\n",
    "# 1: Be positive= [P(true positive)*P(Sufferer)+P(False positive)*P(non sufferer)]\n",
    "\n",
    "print ('Be Positive=' , (0.98*0.005)+(0.1*0.995))\n",
    "\n",
    "#2: Correctly diagnose a sufferer of Thripshaw's\n",
    "\n",
    "print ('Correctly diagnose a sufferer of Thripshaw=', 0.98)\n",
    "\n",
    "#3: Correctly identify a non-sufferer of Thripshaw's\n",
    "print ('Correctly identify a non-sufferer of Thripshaw =', (1-0.1))\n",
    "\n",
    "#4:Misclassify the person\n",
    "\n",
    "print ('Misclassify the person =',  1-(.98*.005 + .9*.995))"
   ]
  },
  {
   "cell_type": "code",
   "execution_count": null,
   "metadata": {},
   "outputs": [],
   "source": []
  }
 ],
 "metadata": {
  "kernelspec": {
   "display_name": "Python 3",
   "language": "python",
   "name": "python3"
  },
  "language_info": {
   "codemirror_mode": {
    "name": "ipython",
    "version": 3
   },
   "file_extension": ".py",
   "mimetype": "text/x-python",
   "name": "python",
   "nbconvert_exporter": "python",
   "pygments_lexer": "ipython3",
   "version": "3.7.0"
  }
 },
 "nbformat": 4,
 "nbformat_minor": 2
}
